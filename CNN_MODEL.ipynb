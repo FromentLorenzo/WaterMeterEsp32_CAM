{
  "cells": [
    {
      "cell_type": "markdown",
      "metadata": {
        "id": "RGAi8CPqZot3"
      },
      "source": [
        "# Lab 1 Part I: MNIST 2D CNN"
      ]
    },
    {
      "cell_type": "markdown",
      "metadata": {
        "id": "PgqdvYUbZouY"
      },
      "source": [
        "## Imports"
      ]
    },
    {
      "cell_type": "code",
      "execution_count": 1,
      "metadata": {
        "id": "UJMKMM4eZoud"
      },
      "outputs": [],
      "source": [
        "import numpy as np\n",
        "import tensorflow as tf\n",
        "from keras.models import Sequential\n",
        "from keras.layers import Input, Conv2D, MaxPool2D, Flatten, Dense, Activation, AveragePooling2D\n",
        "from keras.datasets import mnist\n",
        "from keras.utils import to_categorical\n",
        "from keras.activations import softmax"
      ]
    },
    {
      "cell_type": "code",
      "source": [
        "from google.colab import files\n",
        "import zipfile\n",
        "import os\n",
        "\n",
        "# Téléchargez le fichier ZIP\n",
        "uploaded = files.upload()\n",
        "\n",
        "# Supposons que le fichier ZIP s'appelle \"digits.zip\"\n",
        "zip_filename = \"digits.zip\"\n",
        "\n",
        "# Extrayez le fichier ZIP\n",
        "with zipfile.ZipFile(zip_filename, 'r') as zip_ref:\n",
        "    zip_ref.extractall(\"/content/digits\")\n",
        "\n",
        "# Le chemin vers le dossier extrait\n",
        "folder_path = \"/content/digits/digits\"\n",
        "\n",
        "print(\"Fichiers extraits dans le dossier:\", folder_path)\n"
      ],
      "metadata": {
        "colab": {
          "base_uri": "https://localhost:8080/",
          "height": 91
        },
        "id": "d7yYos00aVO9",
        "outputId": "944e093b-6906-4019-abd2-06121180e5b1"
      },
      "execution_count": 2,
      "outputs": [
        {
          "output_type": "display_data",
          "data": {
            "text/plain": [
              "<IPython.core.display.HTML object>"
            ],
            "text/html": [
              "\n",
              "     <input type=\"file\" id=\"files-4d27cac1-d39a-446c-8e95-9c9b6a0f8c88\" name=\"files[]\" multiple disabled\n",
              "        style=\"border:none\" />\n",
              "     <output id=\"result-4d27cac1-d39a-446c-8e95-9c9b6a0f8c88\">\n",
              "      Upload widget is only available when the cell has been executed in the\n",
              "      current browser session. Please rerun this cell to enable.\n",
              "      </output>\n",
              "      <script>// Copyright 2017 Google LLC\n",
              "//\n",
              "// Licensed under the Apache License, Version 2.0 (the \"License\");\n",
              "// you may not use this file except in compliance with the License.\n",
              "// You may obtain a copy of the License at\n",
              "//\n",
              "//      http://www.apache.org/licenses/LICENSE-2.0\n",
              "//\n",
              "// Unless required by applicable law or agreed to in writing, software\n",
              "// distributed under the License is distributed on an \"AS IS\" BASIS,\n",
              "// WITHOUT WARRANTIES OR CONDITIONS OF ANY KIND, either express or implied.\n",
              "// See the License for the specific language governing permissions and\n",
              "// limitations under the License.\n",
              "\n",
              "/**\n",
              " * @fileoverview Helpers for google.colab Python module.\n",
              " */\n",
              "(function(scope) {\n",
              "function span(text, styleAttributes = {}) {\n",
              "  const element = document.createElement('span');\n",
              "  element.textContent = text;\n",
              "  for (const key of Object.keys(styleAttributes)) {\n",
              "    element.style[key] = styleAttributes[key];\n",
              "  }\n",
              "  return element;\n",
              "}\n",
              "\n",
              "// Max number of bytes which will be uploaded at a time.\n",
              "const MAX_PAYLOAD_SIZE = 100 * 1024;\n",
              "\n",
              "function _uploadFiles(inputId, outputId) {\n",
              "  const steps = uploadFilesStep(inputId, outputId);\n",
              "  const outputElement = document.getElementById(outputId);\n",
              "  // Cache steps on the outputElement to make it available for the next call\n",
              "  // to uploadFilesContinue from Python.\n",
              "  outputElement.steps = steps;\n",
              "\n",
              "  return _uploadFilesContinue(outputId);\n",
              "}\n",
              "\n",
              "// This is roughly an async generator (not supported in the browser yet),\n",
              "// where there are multiple asynchronous steps and the Python side is going\n",
              "// to poll for completion of each step.\n",
              "// This uses a Promise to block the python side on completion of each step,\n",
              "// then passes the result of the previous step as the input to the next step.\n",
              "function _uploadFilesContinue(outputId) {\n",
              "  const outputElement = document.getElementById(outputId);\n",
              "  const steps = outputElement.steps;\n",
              "\n",
              "  const next = steps.next(outputElement.lastPromiseValue);\n",
              "  return Promise.resolve(next.value.promise).then((value) => {\n",
              "    // Cache the last promise value to make it available to the next\n",
              "    // step of the generator.\n",
              "    outputElement.lastPromiseValue = value;\n",
              "    return next.value.response;\n",
              "  });\n",
              "}\n",
              "\n",
              "/**\n",
              " * Generator function which is called between each async step of the upload\n",
              " * process.\n",
              " * @param {string} inputId Element ID of the input file picker element.\n",
              " * @param {string} outputId Element ID of the output display.\n",
              " * @return {!Iterable<!Object>} Iterable of next steps.\n",
              " */\n",
              "function* uploadFilesStep(inputId, outputId) {\n",
              "  const inputElement = document.getElementById(inputId);\n",
              "  inputElement.disabled = false;\n",
              "\n",
              "  const outputElement = document.getElementById(outputId);\n",
              "  outputElement.innerHTML = '';\n",
              "\n",
              "  const pickedPromise = new Promise((resolve) => {\n",
              "    inputElement.addEventListener('change', (e) => {\n",
              "      resolve(e.target.files);\n",
              "    });\n",
              "  });\n",
              "\n",
              "  const cancel = document.createElement('button');\n",
              "  inputElement.parentElement.appendChild(cancel);\n",
              "  cancel.textContent = 'Cancel upload';\n",
              "  const cancelPromise = new Promise((resolve) => {\n",
              "    cancel.onclick = () => {\n",
              "      resolve(null);\n",
              "    };\n",
              "  });\n",
              "\n",
              "  // Wait for the user to pick the files.\n",
              "  const files = yield {\n",
              "    promise: Promise.race([pickedPromise, cancelPromise]),\n",
              "    response: {\n",
              "      action: 'starting',\n",
              "    }\n",
              "  };\n",
              "\n",
              "  cancel.remove();\n",
              "\n",
              "  // Disable the input element since further picks are not allowed.\n",
              "  inputElement.disabled = true;\n",
              "\n",
              "  if (!files) {\n",
              "    return {\n",
              "      response: {\n",
              "        action: 'complete',\n",
              "      }\n",
              "    };\n",
              "  }\n",
              "\n",
              "  for (const file of files) {\n",
              "    const li = document.createElement('li');\n",
              "    li.append(span(file.name, {fontWeight: 'bold'}));\n",
              "    li.append(span(\n",
              "        `(${file.type || 'n/a'}) - ${file.size} bytes, ` +\n",
              "        `last modified: ${\n",
              "            file.lastModifiedDate ? file.lastModifiedDate.toLocaleDateString() :\n",
              "                                    'n/a'} - `));\n",
              "    const percent = span('0% done');\n",
              "    li.appendChild(percent);\n",
              "\n",
              "    outputElement.appendChild(li);\n",
              "\n",
              "    const fileDataPromise = new Promise((resolve) => {\n",
              "      const reader = new FileReader();\n",
              "      reader.onload = (e) => {\n",
              "        resolve(e.target.result);\n",
              "      };\n",
              "      reader.readAsArrayBuffer(file);\n",
              "    });\n",
              "    // Wait for the data to be ready.\n",
              "    let fileData = yield {\n",
              "      promise: fileDataPromise,\n",
              "      response: {\n",
              "        action: 'continue',\n",
              "      }\n",
              "    };\n",
              "\n",
              "    // Use a chunked sending to avoid message size limits. See b/62115660.\n",
              "    let position = 0;\n",
              "    do {\n",
              "      const length = Math.min(fileData.byteLength - position, MAX_PAYLOAD_SIZE);\n",
              "      const chunk = new Uint8Array(fileData, position, length);\n",
              "      position += length;\n",
              "\n",
              "      const base64 = btoa(String.fromCharCode.apply(null, chunk));\n",
              "      yield {\n",
              "        response: {\n",
              "          action: 'append',\n",
              "          file: file.name,\n",
              "          data: base64,\n",
              "        },\n",
              "      };\n",
              "\n",
              "      let percentDone = fileData.byteLength === 0 ?\n",
              "          100 :\n",
              "          Math.round((position / fileData.byteLength) * 100);\n",
              "      percent.textContent = `${percentDone}% done`;\n",
              "\n",
              "    } while (position < fileData.byteLength);\n",
              "  }\n",
              "\n",
              "  // All done.\n",
              "  yield {\n",
              "    response: {\n",
              "      action: 'complete',\n",
              "    }\n",
              "  };\n",
              "}\n",
              "\n",
              "scope.google = scope.google || {};\n",
              "scope.google.colab = scope.google.colab || {};\n",
              "scope.google.colab._files = {\n",
              "  _uploadFiles,\n",
              "  _uploadFilesContinue,\n",
              "};\n",
              "})(self);\n",
              "</script> "
            ]
          },
          "metadata": {}
        },
        {
          "output_type": "stream",
          "name": "stdout",
          "text": [
            "Saving digits.zip to digits.zip\n",
            "Fichiers extraits dans le dossier: /content/digits/digits\n"
          ]
        }
      ]
    },
    {
      "cell_type": "markdown",
      "metadata": {
        "id": "KobB0B0TZoup"
      },
      "source": [
        "## Load and format MNIST dataset"
      ]
    },
    {
      "cell_type": "code",
      "source": [
        "from sklearn import model_selection\n",
        "from pathlib import Path\n",
        "import librosa\n",
        "import copy\n",
        "import matplotlib\n",
        "import numpy as np\n",
        "import tensorflow as tf\n",
        "from keras.models import Sequential\n",
        "from keras.layers import Input, Conv1D, MaxPool1D, Flatten, Dense, AvgPool1D, Activation\n",
        "from keras.utils import get_file\n",
        "from keras.activations import softmax\n",
        "from keras.utils import to_categorical\n",
        "\n"
      ],
      "metadata": {
        "id": "b8395RDSPUCz"
      },
      "execution_count": 3,
      "outputs": []
    },
    {
      "cell_type": "code",
      "execution_count": 4,
      "metadata": {
        "colab": {
          "base_uri": "https://localhost:8080/",
          "height": 525
        },
        "id": "D7FzP2NWZous",
        "outputId": "03093f0f-8f4e-4321-96fe-b1723cf6e07b"
      },
      "outputs": [
        {
          "output_type": "stream",
          "name": "stdout",
          "text": [
            "x_train shape: (15186, 28, 28, 1)\n",
            "y_train shape: (15186, 10)\n",
            "x_test shape: (3797, 28, 28, 1)\n",
            "y_test shape: (3797, 10)\n"
          ]
        },
        {
          "output_type": "display_data",
          "data": {
            "text/plain": [
              "<Figure size 640x480 with 1 Axes>"
            ],
            "image/png": "[encoded data removed]"
          },
          "metadata": {}
        }
      ],
      "source": [
        "import cv2\n",
        "import numpy as np\n",
        "from sklearn.model_selection import train_test_split\n",
        "from keras.utils import to_categorical\n",
        "import matplotlib.pyplot as plt\n",
        "\n",
        "def load_digit_images(folder_path, img_size=(28, 28)):\n",
        "    images = []\n",
        "    labels = []\n",
        "    for digit in range(10):\n",
        "        digit_folder = os.path.join(folder_path, str(digit))\n",
        "        if os.path.exists(digit_folder):\n",
        "            for filename in os.listdir(digit_folder):\n",
        "                if filename.endswith(\".png\") or filename.endswith(\".jpg\") or filename.endswith(\".jpeg\"):\n",
        "                    img_path = os.path.join(digit_folder, filename)\n",
        "                    # Charger l'image en niveaux de gris\n",
        "                    img = cv2.imread(img_path, cv2.IMREAD_GRAYSCALE)\n",
        "                    # Redimensionner l'image\n",
        "                    img = cv2.resize(img, img_size)\n",
        "                    # Appliquer un seuil binaire pour obtenir une image en noir et blanc\n",
        "                    _, img_binary = cv2.threshold(img, 100, 255, cv2.THRESH_BINARY)\n",
        "                    images.append(img_binary)\n",
        "                    labels.append(digit)\n",
        "    return np.array(images), np.array(labels)\n",
        "\n",
        "# Charger les images de chiffres et les étiquettes\n",
        "x_data, y_data = load_digit_images(folder_path, img_size=(28, 28))\n",
        "\n",
        "# Normaliser les images\n",
        "x_data = x_data.astype('float32') / 255.0\n",
        "\n",
        "# Remodeler les images pour correspondre à la nouvelle taille\n",
        "x_data = x_data.reshape((-1, 28, 28, 1))\n",
        "\n",
        "# Convertir les étiquettes en encodage one-hot\n",
        "y_data = to_categorical(y_data, 10)\n",
        "\n",
        "# Diviser les données en ensembles d'entraînement et de test\n",
        "x_train, x_test, y_train, y_test = train_test_split(x_data, y_data, test_size=0.2, random_state=1)\n",
        "\n",
        "print(\"x_train shape:\", x_train.shape)\n",
        "print(\"y_train shape:\", y_train.shape)\n",
        "print(\"x_test shape:\", x_test.shape)\n",
        "print(\"y_test shape:\", y_test.shape)\n",
        "\n",
        "# Afficher une image d'exemple pour vérifier la résolution\n",
        "plt.imshow(x_train[0].reshape(28, 28), cmap='gray')\n",
        "plt.title(f'Label: {np.argmax(y_train[0])}')\n",
        "plt.show()\n"
      ]
    },
    {
      "cell_type": "markdown",
      "metadata": {
        "id": "sYgyBlhbZovX"
      },
      "source": [
        "## Build model"
      ]
    },
    {
      "cell_type": "code",
      "source": [
        "pip install pydot graphviz\n"
      ],
      "metadata": {
        "colab": {
          "base_uri": "https://localhost:8080/"
        },
        "id": "XtAYDULz0ndo",
        "outputId": "781ff4e0-f1cd-44b0-f64c-9b95aa49463a"
      },
      "execution_count": null,
      "outputs": [
        {
          "output_type": "stream",
          "name": "stdout",
          "text": [
            "Requirement already satisfied: pydot in /usr/local/lib/python3.10/dist-packages (1.4.2)\n",
            "Requirement already satisfied: graphviz in /usr/local/lib/python3.10/dist-packages (0.20.3)\n",
            "Requirement already satisfied: pyparsing>=2.1.4 in /usr/local/lib/python3.10/dist-packages (from pydot) (3.1.2)\n"
          ]
        }
      ]
    },
    {
      "cell_type": "code",
      "execution_count": 20,
      "metadata": {
        "colab": {
          "base_uri": "https://localhost:8080/",
          "height": 1000
        },
        "id": "V9ZFw-P1Zovq",
        "outputId": "c52926e5-96e0-454a-8db0-edc6ea1fe2c9"
      },
      "outputs": [
        {
          "output_type": "stream",
          "name": "stdout",
          "text": [
            "Model: \"sequential_1\"\n",
            "_________________________________________________________________\n",
            " Layer (type)                Output Shape              Param #   \n",
            "=================================================================\n",
            " conv2d_2 (Conv2D)           (None, 26, 26, 32)        320       \n",
            "                                                                 \n",
            " max_pooling2d_2 (MaxPoolin  (None, 13, 13, 32)        0         \n",
            " g2D)                                                            \n",
            "                                                                 \n",
            " conv2d_3 (Conv2D)           (None, 11, 11, 32)        9248      \n",
            "                                                                 \n",
            " max_pooling2d_3 (MaxPoolin  (None, 5, 5, 32)          0         \n",
            " g2D)                                                            \n",
            "                                                                 \n",
            " flatten_1 (Flatten)         (None, 800)               0         \n",
            "                                                                 \n",
            " dense_2 (Dense)             (None, 128)               102528    \n",
            "                                                                 \n",
            " dense_3 (Dense)             (None, 10)                1290      \n",
            "                                                                 \n",
            " activation_1 (Activation)   (None, 10)                0         \n",
            "                                                                 \n",
            "=================================================================\n",
            "Total params: 113386 (442.91 KB)\n",
            "Trainable params: 113386 (442.91 KB)\n",
            "Non-trainable params: 0 (0.00 Byte)\n",
            "_________________________________________________________________\n"
          ]
        },
        {
          "output_type": "execute_result",
          "data": {
            "image/png": "[encoded data removed]",
            "text/plain": [
              "<IPython.core.display.Image object>"
            ]
          },
          "metadata": {},
          "execution_count": 20
        }
      ],
      "source": [
        "import tensorflow as tf\n",
        "from tensorflow.keras.models import Sequential\n",
        "from tensorflow.keras.layers import Input, Conv2D, MaxPooling2D, Flatten, Dense\n",
        "from tensorflow.keras.utils import plot_model\n",
        "\n",
        "# Define the model\n",
        "model = Sequential()\n",
        "model.add(Input(shape=(28, 28, 1)))  # Input layer with shape (28, 28, 1)\n",
        "model.add(Conv2D(filters=32, kernel_size=3, activation='relu'))  # Conv2D layer\n",
        "model.add(MaxPooling2D(pool_size=2))  # MaxPooling2D layer\n",
        "model.add(Conv2D(filters=32, kernel_size=3, activation='relu'))  # Another Conv2D layer\n",
        "model.add(MaxPooling2D(pool_size=2))  # Another MaxPooling2D layer\n",
        "model.add(Flatten())  # Flatten the output to feed into a Dense layer\n",
        "model.add(Dense(units=128, activation='relu'))  # Dense layer\n",
        "model.add(Dense(units=10, activation='relu'))  # Output layer for classification\n",
        "model.add(Activation('softmax'))\n",
        "\n",
        "\n",
        "# Print model summary\n",
        "model.summary()\n",
        "\n",
        "# Plot model architecture\n",
        "plot_model(model, to_file='model.png', show_shapes=True, show_layer_names=True)\n"
      ]
    },
    {
      "cell_type": "markdown",
      "metadata": {
        "id": "S9bW8N8QZowN"
      },
      "source": [
        "## Train model"
      ]
    },
    {
      "cell_type": "code",
      "execution_count": 21,
      "metadata": {
        "colab": {
          "base_uri": "https://localhost:8080/"
        },
        "collapsed": true,
        "id": "qRv1rBHjZowQ",
        "outputId": "76754648-a052-47b5-9490-fec1a0883dd3"
      },
      "outputs": [
        {
          "output_type": "stream",
          "name": "stdout",
          "text": [
            "Epoch 1/30\n",
            "475/475 [==============================] - 7s 13ms/step - loss: 0.7815 - accuracy: 0.7837 - val_loss: 0.4449 - val_accuracy: 0.9110\n",
            "Epoch 2/30\n",
            "475/475 [==============================] - 6s 12ms/step - loss: 0.2988 - accuracy: 0.9352 - val_loss: 0.1233 - val_accuracy: 0.9600\n",
            "Epoch 3/30\n",
            "475/475 [==============================] - 5s 11ms/step - loss: 0.1062 - accuracy: 0.9668 - val_loss: 0.1091 - val_accuracy: 0.9655\n",
            "Epoch 4/30\n",
            "475/475 [==============================] - 5s 11ms/step - loss: 0.0746 - accuracy: 0.9760 - val_loss: 0.0838 - val_accuracy: 0.9708\n",
            "Epoch 5/30\n",
            "475/475 [==============================] - 6s 12ms/step - loss: 0.0591 - accuracy: 0.9812 - val_loss: 0.0895 - val_accuracy: 0.9694\n",
            "Epoch 6/30\n",
            "475/475 [==============================] - 5s 11ms/step - loss: 0.0457 - accuracy: 0.9851 - val_loss: 0.0634 - val_accuracy: 0.9800\n",
            "Epoch 7/30\n",
            "475/475 [==============================] - 6s 12ms/step - loss: 0.0385 - accuracy: 0.9878 - val_loss: 0.0927 - val_accuracy: 0.9723\n",
            "Epoch 8/30\n",
            "475/475 [==============================] - 6s 12ms/step - loss: 0.0343 - accuracy: 0.9904 - val_loss: 0.0824 - val_accuracy: 0.9737\n",
            "Epoch 9/30\n",
            "475/475 [==============================] - 6s 12ms/step - loss: 0.0294 - accuracy: 0.9900 - val_loss: 0.0660 - val_accuracy: 0.9802\n",
            "Epoch 10/30\n",
            "475/475 [==============================] - 5s 11ms/step - loss: 0.0272 - accuracy: 0.9909 - val_loss: 0.0918 - val_accuracy: 0.9737\n",
            "Epoch 11/30\n",
            "475/475 [==============================] - 6s 12ms/step - loss: 0.0212 - accuracy: 0.9941 - val_loss: 0.0811 - val_accuracy: 0.9768\n",
            "Epoch 12/30\n",
            "475/475 [==============================] - 6s 12ms/step - loss: 0.0191 - accuracy: 0.9939 - val_loss: 0.0759 - val_accuracy: 0.9800\n",
            "Epoch 13/30\n",
            "475/475 [==============================] - 5s 11ms/step - loss: 0.0218 - accuracy: 0.9929 - val_loss: 0.0664 - val_accuracy: 0.9802\n",
            "Epoch 14/30\n",
            "475/475 [==============================] - 6s 12ms/step - loss: 0.0149 - accuracy: 0.9957 - val_loss: 0.0719 - val_accuracy: 0.9805\n",
            "Epoch 15/30\n",
            "475/475 [==============================] - 6s 12ms/step - loss: 0.0137 - accuracy: 0.9953 - val_loss: 0.0808 - val_accuracy: 0.9792\n",
            "Epoch 16/30\n",
            "475/475 [==============================] - 5s 11ms/step - loss: 0.0145 - accuracy: 0.9959 - val_loss: 0.0694 - val_accuracy: 0.9816\n",
            "Epoch 17/30\n",
            "475/475 [==============================] - 6s 12ms/step - loss: 0.0142 - accuracy: 0.9954 - val_loss: 0.0930 - val_accuracy: 0.9755\n",
            "Epoch 18/30\n",
            "475/475 [==============================] - 5s 12ms/step - loss: 0.0080 - accuracy: 0.9978 - val_loss: 0.0798 - val_accuracy: 0.9781\n",
            "Epoch 19/30\n",
            "475/475 [==============================] - 5s 11ms/step - loss: 0.0129 - accuracy: 0.9960 - val_loss: 0.0884 - val_accuracy: 0.9779\n",
            "Epoch 20/30\n",
            "475/475 [==============================] - 5s 11ms/step - loss: 0.0103 - accuracy: 0.9970 - val_loss: 0.0924 - val_accuracy: 0.9795\n",
            "Epoch 21/30\n",
            "475/475 [==============================] - 6s 12ms/step - loss: 0.0103 - accuracy: 0.9970 - val_loss: 0.0907 - val_accuracy: 0.9779\n",
            "Epoch 22/30\n",
            "475/475 [==============================] - 5s 11ms/step - loss: 0.0051 - accuracy: 0.9987 - val_loss: 0.0966 - val_accuracy: 0.9789\n",
            "Epoch 23/30\n",
            "475/475 [==============================] - 5s 11ms/step - loss: 0.0110 - accuracy: 0.9971 - val_loss: 0.0927 - val_accuracy: 0.9805\n",
            "Epoch 24/30\n",
            "475/475 [==============================] - 5s 11ms/step - loss: 0.0069 - accuracy: 0.9980 - val_loss: 0.0807 - val_accuracy: 0.9808\n",
            "Epoch 25/30\n",
            "475/475 [==============================] - 5s 11ms/step - loss: 0.0048 - accuracy: 0.9985 - val_loss: 0.0976 - val_accuracy: 0.9787\n",
            "Epoch 26/30\n",
            "475/475 [==============================] - 6s 12ms/step - loss: 0.0123 - accuracy: 0.9964 - val_loss: 0.0701 - val_accuracy: 0.9834\n",
            "Epoch 27/30\n",
            "475/475 [==============================] - 5s 11ms/step - loss: 0.0064 - accuracy: 0.9984 - val_loss: 0.0831 - val_accuracy: 0.9808\n",
            "Epoch 28/30\n",
            "475/475 [==============================] - 5s 11ms/step - loss: 0.0040 - accuracy: 0.9988 - val_loss: 0.0765 - val_accuracy: 0.9821\n",
            "Epoch 29/30\n",
            "475/475 [==============================] - 5s 11ms/step - loss: 0.0015 - accuracy: 0.9996 - val_loss: 0.0843 - val_accuracy: 0.9826\n",
            "Epoch 30/30\n",
            "475/475 [==============================] - 5s 11ms/step - loss: 0.0012 - accuracy: 0.9996 - val_loss: 0.0848 - val_accuracy: 0.9837\n"
          ]
        },
        {
          "output_type": "execute_result",
          "data": {
            "text/plain": [
              "<keras.src.callbacks.History at 0x7b4e55065480>"
            ]
          },
          "metadata": {},
          "execution_count": 21
        }
      ],
      "source": [
        "from keras.optimizers import Adam\n",
        "\n",
        "# Créer un nouvel optimiseur\n",
        "optimizer = Adam()\n",
        "\n",
        "# Compiler à nouveau le modèle avec le nouvel optimiseur\n",
        "model.compile(optimizer=optimizer, loss='categorical_crossentropy', metrics=['accuracy'])\n",
        "\n",
        "# Entraîner le modèle\n",
        "model.fit(x_train, y_train, epochs=30, validation_data=(x_test, y_test))\n"
      ]
    },
    {
      "cell_type": "markdown",
      "metadata": {
        "id": "ZyH8BSenZowS"
      },
      "source": [
        "## Evaluate model"
      ]
    },
    {
      "cell_type": "code",
      "execution_count": 22,
      "metadata": {
        "colab": {
          "base_uri": "https://localhost:8080/"
        },
        "id": "B1lAAv7lZowZ",
        "outputId": "4ff33bbf-65dc-4ff7-efa5-6e14a7ab3658"
      },
      "outputs": [
        {
          "output_type": "stream",
          "name": "stdout",
          "text": [
            "119/119 - 1s - loss: 0.0848 - accuracy: 0.9837 - 552ms/epoch - 5ms/step\n",
            "119/119 [==============================] - 1s 5ms/step\n",
            "tf.Tensor(\n",
            "[[387   0   1   0   5   0   0   0   5   1]\n",
            " [  2 396   0   0   2   0   0   1   0   1]\n",
            " [  0   2 448   0   0   0   0   1   2   1]\n",
            " [  1   0   3 378   0   0   0   0   1   0]\n",
            " [  1   2   1   0 404   1   0   2   0   0]\n",
            " [  1   1   1   0   1 438   0   0   3   0]\n",
            " [  1   1   0   0   0   0 206   0   0   1]\n",
            " [  0   1   0   0   1   0   0 297   0   0]\n",
            " [  1   0   4   0   1   1   0   0 393   2]\n",
            " [  2   0   1   0   1   0   0   1   0 388]], shape=(10, 10), dtype=int32)\n"
          ]
        }
      ],
      "source": [
        "model.evaluate(x_test, y_test, verbose=2)\n",
        "pred_test = model.predict(x_test)\n",
        "print(tf.math.confusion_matrix(y_test.argmax(axis=1), pred_test.argmax(axis=1)))"
      ]
    },
    {
      "cell_type": "markdown",
      "metadata": {
        "id": "VyMb9wRxZowk"
      },
      "source": [
        "## Save trained model"
      ]
    },
    {
      "cell_type": "code",
      "execution_count": 23,
      "metadata": {
        "id": "fXkzxBfSZowl",
        "colab": {
          "base_uri": "https://localhost:8080/"
        },
        "outputId": "eec9bdd6-d1d4-4b39-def5-5b01bdb334bc"
      },
      "outputs": [
        {
          "output_type": "stream",
          "name": "stderr",
          "text": [
            "/usr/local/lib/python3.10/dist-packages/keras/src/engine/training.py:3103: UserWarning: You are saving your model as an HDF5 file via `model.save()`. This file format is considered legacy. We recommend using instead the native Keras format, e.g. `model.save('my_model.keras')`.\n",
            "  saving_api.save_model(\n"
          ]
        }
      ],
      "source": [
        "model.save('project.h5')"
      ]
    },
    {
      "cell_type": "code",
      "execution_count": 9,
      "metadata": {
        "colab": {
          "base_uri": "https://localhost:8080/",
          "height": 964
        },
        "id": "SPXb6kHaZowm",
        "outputId": "ed5bdd86-3f0e-4d24-a339-fdc3a80327d3"
      },
      "outputs": [
        {
          "output_type": "display_data",
          "data": {
            "text/plain": [
              "<IPython.core.display.HTML object>"
            ],
            "text/html": [
              "\n",
              "     <input type=\"file\" id=\"files-44ead447-54ca-429a-a22b-3cb455fd2f73\" name=\"files[]\" multiple disabled\n",
              "        style=\"border:none\" />\n",
              "     <output id=\"result-44ead447-54ca-429a-a22b-3cb455fd2f73\">\n",
              "      Upload widget is only available when the cell has been executed in the\n",
              "      current browser session. Please rerun this cell to enable.\n",
              "      </output>\n",
              "      <script>// Copyright 2017 Google LLC\n",
              "//\n",
              "// Licensed under the Apache License, Version 2.0 (the \"License\");\n",
              "// you may not use this file except in compliance with the License.\n",
              "// You may obtain a copy of the License at\n",
              "//\n",
              "//      http://www.apache.org/licenses/LICENSE-2.0\n",
              "//\n",
              "// Unless required by applicable law or agreed to in writing, software\n",
              "// distributed under the License is distributed on an \"AS IS\" BASIS,\n",
              "// WITHOUT WARRANTIES OR CONDITIONS OF ANY KIND, either express or implied.\n",
              "// See the License for the specific language governing permissions and\n",
              "// limitations under the License.\n",
              "\n",
              "/**\n",
              " * @fileoverview Helpers for google.colab Python module.\n",
              " */\n",
              "(function(scope) {\n",
              "function span(text, styleAttributes = {}) {\n",
              "  const element = document.createElement('span');\n",
              "  element.textContent = text;\n",
              "  for (const key of Object.keys(styleAttributes)) {\n",
              "    element.style[key] = styleAttributes[key];\n",
              "  }\n",
              "  return element;\n",
              "}\n",
              "\n",
              "// Max number of bytes which will be uploaded at a time.\n",
              "const MAX_PAYLOAD_SIZE = 100 * 1024;\n",
              "\n",
              "function _uploadFiles(inputId, outputId) {\n",
              "  const steps = uploadFilesStep(inputId, outputId);\n",
              "  const outputElement = document.getElementById(outputId);\n",
              "  // Cache steps on the outputElement to make it available for the next call\n",
              "  // to uploadFilesContinue from Python.\n",
              "  outputElement.steps = steps;\n",
              "\n",
              "  return _uploadFilesContinue(outputId);\n",
              "}\n",
              "\n",
              "// This is roughly an async generator (not supported in the browser yet),\n",
              "// where there are multiple asynchronous steps and the Python side is going\n",
              "// to poll for completion of each step.\n",
              "// This uses a Promise to block the python side on completion of each step,\n",
              "// then passes the result of the previous step as the input to the next step.\n",
              "function _uploadFilesContinue(outputId) {\n",
              "  const outputElement = document.getElementById(outputId);\n",
              "  const steps = outputElement.steps;\n",
              "\n",
              "  const next = steps.next(outputElement.lastPromiseValue);\n",
              "  return Promise.resolve(next.value.promise).then((value) => {\n",
              "    // Cache the last promise value to make it available to the next\n",
              "    // step of the generator.\n",
              "    outputElement.lastPromiseValue = value;\n",
              "    return next.value.response;\n",
              "  });\n",
              "}\n",
              "\n",
              "/**\n",
              " * Generator function which is called between each async step of the upload\n",
              " * process.\n",
              " * @param {string} inputId Element ID of the input file picker element.\n",
              " * @param {string} outputId Element ID of the output display.\n",
              " * @return {!Iterable<!Object>} Iterable of next steps.\n",
              " */\n",
              "function* uploadFilesStep(inputId, outputId) {\n",
              "  const inputElement = document.getElementById(inputId);\n",
              "  inputElement.disabled = false;\n",
              "\n",
              "  const outputElement = document.getElementById(outputId);\n",
              "  outputElement.innerHTML = '';\n",
              "\n",
              "  const pickedPromise = new Promise((resolve) => {\n",
              "    inputElement.addEventListener('change', (e) => {\n",
              "      resolve(e.target.files);\n",
              "    });\n",
              "  });\n",
              "\n",
              "  const cancel = document.createElement('button');\n",
              "  inputElement.parentElement.appendChild(cancel);\n",
              "  cancel.textContent = 'Cancel upload';\n",
              "  const cancelPromise = new Promise((resolve) => {\n",
              "    cancel.onclick = () => {\n",
              "      resolve(null);\n",
              "    };\n",
              "  });\n",
              "\n",
              "  // Wait for the user to pick the files.\n",
              "  const files = yield {\n",
              "    promise: Promise.race([pickedPromise, cancelPromise]),\n",
              "    response: {\n",
              "      action: 'starting',\n",
              "    }\n",
              "  };\n",
              "\n",
              "  cancel.remove();\n",
              "\n",
              "  // Disable the input element since further picks are not allowed.\n",
              "  inputElement.disabled = true;\n",
              "\n",
              "  if (!files) {\n",
              "    return {\n",
              "      response: {\n",
              "        action: 'complete',\n",
              "      }\n",
              "    };\n",
              "  }\n",
              "\n",
              "  for (const file of files) {\n",
              "    const li = document.createElement('li');\n",
              "    li.append(span(file.name, {fontWeight: 'bold'}));\n",
              "    li.append(span(\n",
              "        `(${file.type || 'n/a'}) - ${file.size} bytes, ` +\n",
              "        `last modified: ${\n",
              "            file.lastModifiedDate ? file.lastModifiedDate.toLocaleDateString() :\n",
              "                                    'n/a'} - `));\n",
              "    const percent = span('0% done');\n",
              "    li.appendChild(percent);\n",
              "\n",
              "    outputElement.appendChild(li);\n",
              "\n",
              "    const fileDataPromise = new Promise((resolve) => {\n",
              "      const reader = new FileReader();\n",
              "      reader.onload = (e) => {\n",
              "        resolve(e.target.result);\n",
              "      };\n",
              "      reader.readAsArrayBuffer(file);\n",
              "    });\n",
              "    // Wait for the data to be ready.\n",
              "    let fileData = yield {\n",
              "      promise: fileDataPromise,\n",
              "      response: {\n",
              "        action: 'continue',\n",
              "      }\n",
              "    };\n",
              "\n",
              "    // Use a chunked sending to avoid message size limits. See b/62115660.\n",
              "    let position = 0;\n",
              "    do {\n",
              "      const length = Math.min(fileData.byteLength - position, MAX_PAYLOAD_SIZE);\n",
              "      const chunk = new Uint8Array(fileData, position, length);\n",
              "      position += length;\n",
              "\n",
              "      const base64 = btoa(String.fromCharCode.apply(null, chunk));\n",
              "      yield {\n",
              "        response: {\n",
              "          action: 'append',\n",
              "          file: file.name,\n",
              "          data: base64,\n",
              "        },\n",
              "      };\n",
              "\n",
              "      let percentDone = fileData.byteLength === 0 ?\n",
              "          100 :\n",
              "          Math.round((position / fileData.byteLength) * 100);\n",
              "      percent.textContent = `${percentDone}% done`;\n",
              "\n",
              "    } while (position < fileData.byteLength);\n",
              "  }\n",
              "\n",
              "  // All done.\n",
              "  yield {\n",
              "    response: {\n",
              "      action: 'complete',\n",
              "    }\n",
              "  };\n",
              "}\n",
              "\n",
              "scope.google = scope.google || {};\n",
              "scope.google.colab = scope.google.colab || {};\n",
              "scope.google.colab._files = {\n",
              "  _uploadFiles,\n",
              "  _uploadFilesContinue,\n",
              "};\n",
              "})(self);\n",
              "</script> "
            ]
          },
          "metadata": {}
        },
        {
          "output_type": "stream",
          "name": "stdout",
          "text": [
            "Saving 4.png to 4.png\n",
            "Image en niveaux de gris après traitement:\n"
          ]
        },
        {
          "output_type": "display_data",
          "data": {
            "text/plain": [
              "<Figure size 640x480 with 1 Axes>"
            ],
            "image/png": "[encoded data removed]"
          },
          "metadata": {}
        },
        {
          "output_type": "stream",
          "name": "stdout",
          "text": [
            "1/1 [==============================] - 0s 59ms/step\n",
            "Processed image saved at: /content/processed_image_0.png\n"
          ]
        },
        {
          "output_type": "display_data",
          "data": {
            "text/plain": [
              "<Figure size 640x480 with 1 Axes>"
            ],
            "image/png": "[encoded data removed]"
          },
          "metadata": {}
        },
        {
          "output_type": "stream",
          "name": "stdout",
          "text": [
            "Image 1 - Predicted Digit: 4\n",
            "Image 1 - Confidence: 0.23196931\n"
          ]
        }
      ],
      "source": [
        "import cv2\n",
        "import numpy as np\n",
        "import matplotlib.pyplot as plt\n",
        "from tensorflow.keras.models import load_model\n",
        "from google.colab import files\n",
        "\n",
        "# Charger votre modèle\n",
        "model = load_model('project.h5')\n",
        "\n",
        "def predict_and_save(image_path, output_path):\n",
        "    # Charger l'image en couleur\n",
        "    img = cv2.imread(image_path)\n",
        "\n",
        "    # Vérifier si l'image a été chargée correctement\n",
        "    if img is None:\n",
        "        print(f\"Erreur: l'image à {image_path} n'a pas pu être chargée.\")\n",
        "        return None, None\n",
        "\n",
        "    # Redimensionner l'image pour correspondre à la taille de l'image MNIST\n",
        "    img_resized = cv2.resize(img, (28, 28))\n",
        "\n",
        "    # Convertir l'image en niveaux de gris (si nécessaire)\n",
        "    img_gray = cv2.cvtColor(img_resized, cv2.COLOR_BGR2GRAY)\n",
        "\n",
        "    # Afficher l'image en niveaux de gris après traitement\n",
        "    print(\"Image en niveaux de gris après traitement:\")\n",
        "    plt.imshow(img_gray, cmap='gray')\n",
        "    plt.axis('off')\n",
        "    plt.show()\n",
        "\n",
        "    # Appliquer un seuil binaire pour obtenir une image en noir et blanc\n",
        "    _, img_binary = cv2.threshold(img_gray, 80, 255, cv2.THRESH_BINARY)\n",
        "\n",
        "    # Normaliser l'image\n",
        "    img_normalized = img_binary.astype('float32') / 255.0\n",
        "    # Remodeler l'image pour correspondre à la forme d'entrée du modèle\n",
        "    img_reshaped = img_normalized.reshape((1, 28, 28, 1))\n",
        "    # Faire la prédiction\n",
        "    prediction = model.predict(img_reshaped)\n",
        "    # Obtenir le chiffre prédit\n",
        "    predicted_digit = np.argmax(prediction)\n",
        "    # Obtenir l'indice de confiance\n",
        "    confidence = np.max(prediction)\n",
        "\n",
        "    # Enregistrer l'image traitée\n",
        "    save_path = output_path\n",
        "    cv2.imwrite(save_path, img_binary)\n",
        "    print(f\"Processed image saved at: {save_path}\")\n",
        "\n",
        "    # Afficher l'image traitée\n",
        "    plt.imshow(img_binary, cmap='gray')\n",
        "    plt.title(f'Predicted Digit: {predicted_digit} with Confidence: {confidence:.2f}')\n",
        "    plt.axis('off')\n",
        "    plt.show()\n",
        "\n",
        "    return predicted_digit, confidence\n",
        "\n",
        "# Télécharger les fichiers d'image\n",
        "uploaded = files.upload()\n",
        "\n",
        "# Tester les images téléchargées\n",
        "for idx, image_name in enumerate(uploaded.keys()):\n",
        "    output_path = f\"/content/processed_image_{idx}.png\"  # Chemin de sortie pour chaque image traitée\n",
        "    predicted_digit, confidence = predict_and_save(image_name, output_path)\n",
        "    if predicted_digit is not None:\n",
        "        print(f\"Image {idx+1} - Predicted Digit:\", predicted_digit)\n",
        "        print(f\"Image {idx+1} - Confidence:\", confidence)\n"
      ]
    },
    {
      "cell_type": "code",
      "source": [
        "if isinstance(model.layers[-1], Activation) and model.layers[-1].activation == softmax:\n",
        "    model = tf.keras.Model(model.input, model.layers[-2].output, name=model.name)\n",
        "else:\n",
        "    print('Error: last layer is not SoftMax Activation')"
      ],
      "metadata": {
        "id": "nlvsgFLXJqKo"
      },
      "execution_count": 24,
      "outputs": []
    },
    {
      "cell_type": "code",
      "source": [
        "%pip install qualia_codegen_core\n",
        "import qualia_codegen_core\n",
        "from qualia_codegen_core.graph.KerasModelGraph import KerasModelGraph\n",
        "from qualia_codegen_core.graph.Quantization import Quantization\n",
        "from qualia_codegen_core.graph.RoundMode import RoundMode\n",
        "\n",
        "from importlib.resources import files\n",
        "main_path = str((files('qualia_codegen_core.examples')/'Linux'/'main.cpp').resolve())"
      ],
      "metadata": {
        "colab": {
          "base_uri": "https://localhost:8080/"
        },
        "id": "WZQkLswxMZdM",
        "outputId": "9371a68f-d879-4340-a0e0-f3939edb55fb"
      },
      "execution_count": 25,
      "outputs": [
        {
          "output_type": "stream",
          "name": "stdout",
          "text": [
            "Requirement already satisfied: qualia_codegen_core in /usr/local/lib/python3.10/dist-packages (2.2.0)\n",
            "Requirement already satisfied: numpy in /usr/local/lib/python3.10/dist-packages (from qualia_codegen_core) (1.25.2)\n",
            "Requirement already satisfied: jinja2 in /usr/local/lib/python3.10/dist-packages (from qualia_codegen_core) (3.1.4)\n",
            "Requirement already satisfied: typing_extensions in /usr/local/lib/python3.10/dist-packages (from qualia_codegen_core) (4.11.0)\n",
            "Requirement already satisfied: MarkupSafe>=2.0 in /usr/local/lib/python3.10/dist-packages (from jinja2->qualia_codegen_core) (2.1.5)\n"
          ]
        }
      ]
    },
    {
      "cell_type": "code",
      "source": [
        "modelgraph = KerasModelGraph(model).convert()\n",
        "print(modelgraph)\n",
        "print(modelgraph.nodes)  # Affiche les nœuds du modèle\n",
        "\n"
      ],
      "metadata": {
        "colab": {
          "base_uri": "https://localhost:8080/"
        },
        "id": "yvSnWgKzLutI",
        "outputId": "83a5a71b-549e-4fd6-d818-dbda86eb8f88"
      },
      "execution_count": 26,
      "outputs": [
        {
          "output_type": "stream",
          "name": "stdout",
          "text": [
            "—————————————————————————————————————————————————————————————————————————————————————————————————————————————————————————————————————————————————————————————————————————————————————————————————————————————————————————————————————————————————————————————\n",
            "Inputs                                           | Layer                                            | Outputs                                          | Input shape                                      | Output shape                                    \n",
            "—————————————————————————————————————————————————————————————————————————————————————————————————————————————————————————————————————————————————————————————————————————————————————————————————————————————————————————————————————————————————————————————\n",
            "                                                 | input_2                                          | conv2d_2                                         | (1, 28, 28, 1)                                   | ((1, 28, 28, 1),)                               \n",
            "-------------------------------------------------------------------------------------------------------------------------------------------------------------------------------------------------------------------------------------------------------------\n",
            "input_2                                          | conv2d_2                                         | max_pooling2d_2                                  | (1, 28, 28, 1)                                   | ((1, 26, 26, 32),)                              \n",
            "-------------------------------------------------------------------------------------------------------------------------------------------------------------------------------------------------------------------------------------------------------------\n",
            "conv2d_2                                         | max_pooling2d_2                                  | conv2d_3                                         | (1, 26, 26, 32)                                  | ((1, 13, 13, 32),)                              \n",
            "-------------------------------------------------------------------------------------------------------------------------------------------------------------------------------------------------------------------------------------------------------------\n",
            "max_pooling2d_2                                  | conv2d_3                                         | max_pooling2d_3                                  | (1, 13, 13, 32)                                  | ((1, 11, 11, 32),)                              \n",
            "-------------------------------------------------------------------------------------------------------------------------------------------------------------------------------------------------------------------------------------------------------------\n",
            "conv2d_3                                         | max_pooling2d_3                                  | flatten_1                                        | (1, 11, 11, 32)                                  | ((1, 5, 5, 32),)                                \n",
            "-------------------------------------------------------------------------------------------------------------------------------------------------------------------------------------------------------------------------------------------------------------\n",
            "max_pooling2d_3                                  | flatten_1                                        | dense_2                                          | (1, 5, 5, 32)                                    | ((1, 800),)                                     \n",
            "-------------------------------------------------------------------------------------------------------------------------------------------------------------------------------------------------------------------------------------------------------------\n",
            "flatten_1                                        | dense_2                                          | dense_3                                          | (1, 800)                                         | ((1, 128),)                                     \n",
            "-------------------------------------------------------------------------------------------------------------------------------------------------------------------------------------------------------------------------------------------------------------\n",
            "dense_2                                          | dense_3                                          |                                                  | (1, 128)                                         | ((1, 10),)                                      \n",
            "-------------------------------------------------------------------------------------------------------------------------------------------------------------------------------------------------------------------------------------------------------------\n",
            "\n",
            "[input_2, conv2d_2, max_pooling2d_2, conv2d_3, max_pooling2d_3, flatten_1, dense_2, dense_3]\n"
          ]
        }
      ]
    },
    {
      "cell_type": "code",
      "source": [
        "float_modelgraph = copy.deepcopy(modelgraph)\n",
        "\n",
        "\n",
        "# layer quantization annotations for float32\n",
        "for node in float_modelgraph.nodes:\n",
        "    # No scale factor if not fixed-point quantization on integers\n",
        "    node.q = Quantization(\n",
        "            number_type=float,\n",
        "            width=32,\n",
        "            long_width=32,\n",
        "            weights_scale_factor=0,\n",
        "            output_scale_factor=0,\n",
        "            weights_round_mode=RoundMode.NONE,\n",
        "            output_round_mode=RoundMode.NONE,\n",
        "            )\n",
        "print(float_modelgraph)\n",
        "\n",
        "float_res = qualia_codegen_core.Converter(output_path=Path('gsc_output_floating')).convert_model(float_modelgraph)\n",
        "\n",
        "with open('gsc_model_floating.h', 'w') as f:\n",
        "    f.write(float_res)"
      ],
      "metadata": {
        "id": "dK1v5rxwL6_7",
        "colab": {
          "base_uri": "https://localhost:8080/"
        },
        "outputId": "cb314ea6-9ca6-4a8b-f886-3113bd12876b",
        "collapsed": true
      },
      "execution_count": 27,
      "outputs": [
        {
          "output_type": "stream",
          "name": "stdout",
          "text": [
            "—————————————————————————————————————————————————————————————————————————————————————————————————————————————————————————————————————————————————————————————————————————————————————————————————————————————————————————————————————————————————————————————\n",
            "Inputs                                           | Layer                                            | Outputs                                          | Input shape                                      | Output shape                                    \n",
            "—————————————————————————————————————————————————————————————————————————————————————————————————————————————————————————————————————————————————————————————————————————————————————————————————————————————————————————————————————————————————————————————\n",
            "                                                 | input_2                                          | conv2d_2                                         | (1, 28, 28, 1)                                   | ((1, 28, 28, 1),)                               \n",
            "-------------------------------------------------------------------------------------------------------------------------------------------------------------------------------------------------------------------------------------------------------------\n",
            "input_2                                          | conv2d_2                                         | max_pooling2d_2                                  | (1, 28, 28, 1)                                   | ((1, 26, 26, 32),)                              \n",
            "-------------------------------------------------------------------------------------------------------------------------------------------------------------------------------------------------------------------------------------------------------------\n",
            "conv2d_2                                         | max_pooling2d_2                                  | conv2d_3                                         | (1, 26, 26, 32)                                  | ((1, 13, 13, 32),)                              \n",
            "-------------------------------------------------------------------------------------------------------------------------------------------------------------------------------------------------------------------------------------------------------------\n",
            "max_pooling2d_2                                  | conv2d_3                                         | max_pooling2d_3                                  | (1, 13, 13, 32)                                  | ((1, 11, 11, 32),)                              \n",
            "-------------------------------------------------------------------------------------------------------------------------------------------------------------------------------------------------------------------------------------------------------------\n",
            "conv2d_3                                         | max_pooling2d_3                                  | flatten_1                                        | (1, 11, 11, 32)                                  | ((1, 5, 5, 32),)                                \n",
            "-------------------------------------------------------------------------------------------------------------------------------------------------------------------------------------------------------------------------------------------------------------\n",
            "max_pooling2d_3                                  | flatten_1                                        | dense_2                                          | (1, 5, 5, 32)                                    | ((1, 800),)                                     \n",
            "-------------------------------------------------------------------------------------------------------------------------------------------------------------------------------------------------------------------------------------------------------------\n",
            "flatten_1                                        | dense_2                                          | dense_3                                          | (1, 800)                                         | ((1, 128),)                                     \n",
            "-------------------------------------------------------------------------------------------------------------------------------------------------------------------------------------------------------------------------------------------------------------\n",
            "dense_2                                          | dense_3                                          |                                                  | (1, 128)                                         | ((1, 10),)                                      \n",
            "-------------------------------------------------------------------------------------------------------------------------------------------------------------------------------------------------------------------------------------------------------------\n",
            "\n"
          ]
        }
      ]
    },
    {
      "cell_type": "code",
      "source": [
        "!g++ -std=c++17 -Wall -Wextra -pedantic -Ofast -o gsc_fixed -include gsc_output_floating/include/defines.h -Igsc_output_floating/include gsc_output_floating/model.c {main_path}"
      ],
      "metadata": {
        "id": "lXHtKF7xVQrd",
        "colab": {
          "base_uri": "https://localhost:8080/"
        },
        "outputId": "4e38fbf8-d81c-4fa4-d361-f20b6135b13f"
      },
      "execution_count": 28,
      "outputs": [
        {
          "output_type": "stream",
          "name": "stdout",
          "text": [
            "In file included from \u001b[01m\u001b[Kgsc_output_floating/model.c:15\u001b[m\u001b[K:\n",
            "\u001b[01m\u001b[Kgsc_output_floating/include/number.h:\u001b[m\u001b[K In function ‘\u001b[01m\u001b[Kfloat scale_number_t_float(float, int, round_mode_t)\u001b[m\u001b[K’:\n",
            "\u001b[01m\u001b[Kgsc_output_floating/include/number.h:143:21:\u001b[m\u001b[K \u001b[01;35m\u001b[Kwarning: \u001b[m\u001b[Kunused parameter ‘\u001b[01m\u001b[Kscale_factor\u001b[m\u001b[K’ [\u001b[01;35m\u001b[K\u001b]8;;https://gcc.gnu.org/onlinedocs/gcc/Warning-Options.html#index-Wunused-parameter\u0007-Wunused-parameter\u001b]8;;\u0007\u001b[m\u001b[K]\n",
            "  143 |   float number, \u001b[01;35m\u001b[Kint scale_factor\u001b[m\u001b[K, round_mode_t round_mode) {\n",
            "      |                 \u001b[01;35m\u001b[K~~~~^~~~~~~~~~~~\u001b[m\u001b[K\n",
            "\u001b[01m\u001b[Kgsc_output_floating/include/number.h:143:48:\u001b[m\u001b[K \u001b[01;35m\u001b[Kwarning: \u001b[m\u001b[Kunused parameter ‘\u001b[01m\u001b[Kround_mode\u001b[m\u001b[K’ [\u001b[01;35m\u001b[K\u001b]8;;https://gcc.gnu.org/onlinedocs/gcc/Warning-Options.html#index-Wunused-parameter\u0007-Wunused-parameter\u001b]8;;\u0007\u001b[m\u001b[K]\n",
            "  143 |   float number, int scale_factor, \u001b[01;35m\u001b[Kround_mode_t round_mode\u001b[m\u001b[K) {\n",
            "      |                                   \u001b[01;35m\u001b[K~~~~~~~~~~~~~^~~~~~~~~~\u001b[m\u001b[K\n",
            "\u001b[01m\u001b[Kgsc_output_floating/include/number.h:\u001b[m\u001b[K In function ‘\u001b[01m\u001b[Kfloat scale_and_clamp_to_number_t_float(float, int, round_mode_t)\u001b[m\u001b[K’:\n",
            "\u001b[01m\u001b[Kgsc_output_floating/include/number.h:151:21:\u001b[m\u001b[K \u001b[01;35m\u001b[Kwarning: \u001b[m\u001b[Kunused parameter ‘\u001b[01m\u001b[Kscale_factor\u001b[m\u001b[K’ [\u001b[01;35m\u001b[K\u001b]8;;https://gcc.gnu.org/onlinedocs/gcc/Warning-Options.html#index-Wunused-parameter\u0007-Wunused-parameter\u001b]8;;\u0007\u001b[m\u001b[K]\n",
            "  151 |   float number, \u001b[01;35m\u001b[Kint scale_factor\u001b[m\u001b[K, round_mode_t round_mode) {\n",
            "      |                 \u001b[01;35m\u001b[K~~~~^~~~~~~~~~~~\u001b[m\u001b[K\n",
            "\u001b[01m\u001b[Kgsc_output_floating/include/number.h:151:48:\u001b[m\u001b[K \u001b[01;35m\u001b[Kwarning: \u001b[m\u001b[Kunused parameter ‘\u001b[01m\u001b[Kround_mode\u001b[m\u001b[K’ [\u001b[01;35m\u001b[K\u001b]8;;https://gcc.gnu.org/onlinedocs/gcc/Warning-Options.html#index-Wunused-parameter\u0007-Wunused-parameter\u001b]8;;\u0007\u001b[m\u001b[K]\n",
            "  151 |   float number, int scale_factor, \u001b[01;35m\u001b[Kround_mode_t round_mode\u001b[m\u001b[K) {\n",
            "      |                                   \u001b[01;35m\u001b[K~~~~~~~~~~~~~^~~~~~~~~~\u001b[m\u001b[K\n",
            "In file included from \u001b[01m\u001b[Kgsc_output_floating/include/model.h:19\u001b[m\u001b[K,\n",
            "                 from \u001b[01m\u001b[K/usr/local/lib/python3.10/dist-packages/qualia_codegen_core/examples/Linux/main.cpp:12\u001b[m\u001b[K:\n",
            "\u001b[01m\u001b[Kgsc_output_floating/include/number.h:\u001b[m\u001b[K In function ‘\u001b[01m\u001b[Kfloat scale_number_t_float(float, int, round_mode_t)\u001b[m\u001b[K’:\n",
            "\u001b[01m\u001b[Kgsc_output_floating/include/number.h:143:21:\u001b[m\u001b[K \u001b[01;35m\u001b[Kwarning: \u001b[m\u001b[Kunused parameter ‘\u001b[01m\u001b[Kscale_factor\u001b[m\u001b[K’ [\u001b[01;35m\u001b[K\u001b]8;;https://gcc.gnu.org/onlinedocs/gcc/Warning-Options.html#index-Wunused-parameter\u0007-Wunused-parameter\u001b]8;;\u0007\u001b[m\u001b[K]\n",
            "  143 |   float number, \u001b[01;35m\u001b[Kint scale_factor\u001b[m\u001b[K, round_mode_t round_mode) {\n",
            "      |                 \u001b[01;35m\u001b[K~~~~^~~~~~~~~~~~\u001b[m\u001b[K\n",
            "\u001b[01m\u001b[Kgsc_output_floating/include/number.h:143:48:\u001b[m\u001b[K \u001b[01;35m\u001b[Kwarning: \u001b[m\u001b[Kunused parameter ‘\u001b[01m\u001b[Kround_mode\u001b[m\u001b[K’ [\u001b[01;35m\u001b[K\u001b]8;;https://gcc.gnu.org/onlinedocs/gcc/Warning-Options.html#index-Wunused-parameter\u0007-Wunused-parameter\u001b]8;;\u0007\u001b[m\u001b[K]\n",
            "  143 |   float number, int scale_factor, \u001b[01;35m\u001b[Kround_mode_t round_mode\u001b[m\u001b[K) {\n",
            "      |                                   \u001b[01;35m\u001b[K~~~~~~~~~~~~~^~~~~~~~~~\u001b[m\u001b[K\n",
            "\u001b[01m\u001b[Kgsc_output_floating/include/number.h:\u001b[m\u001b[K In function ‘\u001b[01m\u001b[Kfloat scale_and_clamp_to_number_t_float(float, int, round_mode_t)\u001b[m\u001b[K’:\n",
            "\u001b[01m\u001b[Kgsc_output_floating/include/number.h:151:21:\u001b[m\u001b[K \u001b[01;35m\u001b[Kwarning: \u001b[m\u001b[Kunused parameter ‘\u001b[01m\u001b[Kscale_factor\u001b[m\u001b[K’ [\u001b[01;35m\u001b[K\u001b]8;;https://gcc.gnu.org/onlinedocs/gcc/Warning-Options.html#index-Wunused-parameter\u0007-Wunused-parameter\u001b]8;;\u0007\u001b[m\u001b[K]\n",
            "  151 |   float number, \u001b[01;35m\u001b[Kint scale_factor\u001b[m\u001b[K, round_mode_t round_mode) {\n",
            "      |                 \u001b[01;35m\u001b[K~~~~^~~~~~~~~~~~\u001b[m\u001b[K\n",
            "\u001b[01m\u001b[Kgsc_output_floating/include/number.h:151:48:\u001b[m\u001b[K \u001b[01;35m\u001b[Kwarning: \u001b[m\u001b[Kunused parameter ‘\u001b[01m\u001b[Kround_mode\u001b[m\u001b[K’ [\u001b[01;35m\u001b[K\u001b]8;;https://gcc.gnu.org/onlinedocs/gcc/Warning-Options.html#index-Wunused-parameter\u0007-Wunused-parameter\u001b]8;;\u0007\u001b[m\u001b[K]\n",
            "  151 |   float number, int scale_factor, \u001b[01;35m\u001b[Kround_mode_t round_mode\u001b[m\u001b[K) {\n",
            "      |                                   \u001b[01;35m\u001b[K~~~~~~~~~~~~~^~~~~~~~~~\u001b[m\u001b[K\n"
          ]
        }
      ]
    },
    {
      "cell_type": "code",
      "source": [
        "fixed_modelgraph = copy.deepcopy(modelgraph)\n",
        "\n",
        "# layer quantization annotations for int16 Q9.7\n",
        "for node in fixed_modelgraph.nodes:\n",
        "    node.q = Quantization(\n",
        "            number_type=int,\n",
        "            width=16,\n",
        "            long_width=32,\n",
        "            weights_scale_factor=7,\n",
        "            output_scale_factor=7,\n",
        "            weights_round_mode=RoundMode.FLOOR,\n",
        "            output_round_mode=RoundMode.FLOOR,\n",
        "            )\n",
        "\n",
        "fixed_res = qualia_codegen_core.Converter(output_path=Path('gsc_output_fixed')).convert_model(fixed_modelgraph)\n",
        "\n",
        "with open('gsc_model_fixed.h', 'w') as f:\n",
        "    f.write(fixed_res)"
      ],
      "metadata": {
        "id": "QzmMrVJpMlAP"
      },
      "execution_count": 29,
      "outputs": []
    },
    {
      "cell_type": "code",
      "source": [
        "!g++ -std=c++17 -Wall -Wextra -pedantic -Ofast -o gsc_fixed -include gsc_output_fixed/include/defines.h -Igsc_output_fixed/include gsc_output_fixed/model.c {main_path}\n"
      ],
      "metadata": {
        "id": "mHqAv73SVVRe"
      },
      "execution_count": 30,
      "outputs": []
    },
    {
      "cell_type": "code",
      "source": [],
      "metadata": {
        "id": "p_SbCA2PVXhp"
      },
      "execution_count": null,
      "outputs": []
    }
  ],
  "metadata": {
    "kernelspec": {
      "display_name": "Python 3",
      "name": "python3"
    },
    "language_info": {
      "codemirror_mode": {
        "name": "ipython",
        "version": 3
      },
      "file_extension": ".py",
      "mimetype": "text/x-python",
      "name": "python",
      "nbconvert_exporter": "python",
      "pygments_lexer": "ipython3",
      "version": "3.11.8"
    },
    "colab": {
      "provenance": [],
      "machine_shape": "hm",
      "gpuType": "T4"
    },
    "accelerator": "GPU"
  },
  "nbformat": 4,
  "nbformat_minor": 0
}